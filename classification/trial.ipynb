{
 "cells": [
  {
   "cell_type": "code",
   "execution_count": 1,
   "metadata": {},
   "outputs": [],
   "source": [
    "import torch\n",
    "from model import TimeSeriesBinaryClassificationModel"
   ]
  },
  {
   "cell_type": "code",
   "execution_count": 2,
   "metadata": {},
   "outputs": [],
   "source": [
    "model = TimeSeriesBinaryClassificationModel()"
   ]
  },
  {
   "cell_type": "code",
   "execution_count": 3,
   "metadata": {},
   "outputs": [
    {
     "name": "stdout",
     "output_type": "stream",
     "text": [
      "('weight_ih_l0', Parameter containing:\n",
      "tensor([[-0.0406,  0.0160, -0.0224,  ..., -0.0364,  0.0108, -0.0148],\n",
      "        [ 0.0061, -0.0067,  0.0622,  ..., -0.0338, -0.0173, -0.0329],\n",
      "        [-0.0719,  0.0059, -0.0076,  ..., -0.0112,  0.0166,  0.0043],\n",
      "        ...,\n",
      "        [-0.0358,  0.0002,  0.0102,  ..., -0.0363,  0.0455, -0.0142],\n",
      "        [-0.0153,  0.0215,  0.0093,  ..., -0.0379,  0.0314,  0.0122],\n",
      "        [-0.0046,  0.0287, -0.0171,  ...,  0.0107,  0.0327,  0.0122]],\n",
      "       requires_grad=True))\n",
      "('weight_hh_l0', Parameter containing:\n",
      "tensor([[-9.7675e-03,  4.6852e-03, -6.3323e-06,  ..., -2.0813e-02,\n",
      "         -1.3865e-02, -3.1472e-02],\n",
      "        [-1.8379e-03,  4.6058e-02,  1.6412e-02,  ...,  3.0498e-02,\n",
      "          2.0821e-02, -1.0376e-02],\n",
      "        [ 9.9060e-03, -2.8729e-02,  1.7452e-02,  ...,  8.0564e-03,\n",
      "         -8.5679e-03, -5.3516e-03],\n",
      "        ...,\n",
      "        [ 1.0556e-02,  2.3925e-02, -3.3383e-02,  ..., -1.9190e-02,\n",
      "         -1.1807e-02,  5.8773e-04],\n",
      "        [ 1.7498e-02,  8.0511e-03,  2.5576e-03,  ...,  1.0196e-02,\n",
      "         -1.5688e-02,  9.2062e-04],\n",
      "        [ 5.4395e-03,  2.4598e-02,  1.9570e-03,  ..., -3.4915e-02,\n",
      "          3.3522e-02, -1.1148e-02]], requires_grad=True))\n",
      "('bias_ih_l0', Parameter containing:\n",
      "tensor([0., 0., 0.,  ..., 0., 0., 0.], requires_grad=True))\n",
      "('bias_hh_l0', Parameter containing:\n",
      "tensor([0., 0., 0.,  ..., 0., 0., 0.], requires_grad=True))\n",
      "('weight_ih_l1', Parameter containing:\n",
      "tensor([[-0.0206,  0.0216, -0.0193,  ..., -0.0026, -0.0355, -0.0132],\n",
      "        [ 0.0056,  0.0147, -0.0272,  ..., -0.0010,  0.0009, -0.0304],\n",
      "        [-0.0053,  0.0091, -0.0071,  ...,  0.0056, -0.0190,  0.0125],\n",
      "        ...,\n",
      "        [-0.0059, -0.0106,  0.0122,  ...,  0.0203,  0.0177,  0.0369],\n",
      "        [ 0.0086,  0.0220, -0.0144,  ...,  0.0105, -0.0025, -0.0091],\n",
      "        [-0.0226, -0.0282,  0.0150,  ...,  0.0179,  0.0071, -0.0293]],\n",
      "       requires_grad=True))\n",
      "('weight_hh_l1', Parameter containing:\n",
      "tensor([[-0.0054, -0.0317, -0.0097,  ..., -0.0207,  0.0185, -0.0090],\n",
      "        [-0.0124,  0.0180,  0.0166,  ..., -0.0122,  0.0255,  0.0027],\n",
      "        [-0.0119,  0.0202, -0.0220,  ...,  0.0163, -0.0074,  0.0033],\n",
      "        ...,\n",
      "        [ 0.0008,  0.0073,  0.0102,  ..., -0.0293,  0.0380,  0.0024],\n",
      "        [-0.0086,  0.0023,  0.0093,  ..., -0.0455, -0.0180,  0.0293],\n",
      "        [-0.0347, -0.0012, -0.0059,  ...,  0.0174,  0.0329,  0.0048]],\n",
      "       requires_grad=True))\n",
      "('bias_ih_l1', Parameter containing:\n",
      "tensor([0., 0., 0.,  ..., 0., 0., 0.], requires_grad=True))\n",
      "('bias_hh_l1', Parameter containing:\n",
      "tensor([0., 0., 0.,  ..., 0., 0., 0.], requires_grad=True))\n",
      "('weight_ih_l2', Parameter containing:\n",
      "tensor([[-0.0098, -0.0220, -0.0100,  ...,  0.0310,  0.0237,  0.0071],\n",
      "        [ 0.0334, -0.0044, -0.0038,  ...,  0.0104, -0.0096,  0.0012],\n",
      "        [ 0.0115,  0.0163, -0.0059,  ..., -0.0266,  0.0148, -0.0085],\n",
      "        ...,\n",
      "        [ 0.0198,  0.0042,  0.0368,  ...,  0.0009,  0.0134,  0.0525],\n",
      "        [ 0.0227, -0.0118,  0.0346,  ..., -0.0152,  0.0119, -0.0086],\n",
      "        [ 0.0195,  0.0237,  0.0616,  ...,  0.0116, -0.0072,  0.0021]],\n",
      "       requires_grad=True))\n",
      "('weight_hh_l2', Parameter containing:\n",
      "tensor([[-0.0035,  0.0152, -0.0040,  ...,  0.0129, -0.0081, -0.0178],\n",
      "        [ 0.0005,  0.0389,  0.0026,  ...,  0.0271, -0.0295, -0.0179],\n",
      "        [ 0.0220, -0.0131,  0.0091,  ..., -0.0006,  0.0419, -0.0293],\n",
      "        ...,\n",
      "        [-0.0142, -0.0422, -0.0007,  ..., -0.0012,  0.0009,  0.0139],\n",
      "        [-0.0277, -0.0049, -0.0164,  ...,  0.0028, -0.0154,  0.0287],\n",
      "        [ 0.0078,  0.0022, -0.0020,  ..., -0.0146, -0.0022,  0.0029]],\n",
      "       requires_grad=True))\n",
      "('bias_ih_l2', Parameter containing:\n",
      "tensor([0., 0., 0.,  ..., 0., 0., 0.], requires_grad=True))\n",
      "('bias_hh_l2', Parameter containing:\n",
      "tensor([0., 0., 0.,  ..., 0., 0., 0.], requires_grad=True))\n",
      "('weight_ih_l3', Parameter containing:\n",
      "tensor([[-0.0073, -0.0085, -0.0164,  ...,  0.0364,  0.0221, -0.0026],\n",
      "        [-0.0087, -0.0279,  0.0209,  ...,  0.0215,  0.0164, -0.0052],\n",
      "        [ 0.0154,  0.0073,  0.0081,  ..., -0.0050, -0.0070, -0.0089],\n",
      "        ...,\n",
      "        [ 0.0192, -0.0059,  0.0018,  ..., -0.0106,  0.0329,  0.0027],\n",
      "        [ 0.0223,  0.0130, -0.0083,  ...,  0.0052, -0.0128,  0.0009],\n",
      "        [ 0.0320, -0.0206,  0.0193,  ..., -0.0116, -0.0362, -0.0122]],\n",
      "       requires_grad=True))\n",
      "('weight_hh_l3', Parameter containing:\n",
      "tensor([[-0.0346,  0.0078,  0.0137,  ...,  0.0461,  0.0066, -0.0071],\n",
      "        [ 0.0163, -0.0122,  0.0091,  ...,  0.0314, -0.0376,  0.0100],\n",
      "        [-0.0361, -0.0044,  0.0115,  ..., -0.0149,  0.0136,  0.0078],\n",
      "        ...,\n",
      "        [ 0.0247,  0.0154, -0.0201,  ...,  0.0003, -0.0296, -0.0177],\n",
      "        [ 0.0017,  0.0008, -0.0058,  ...,  0.0130, -0.0097, -0.0113],\n",
      "        [ 0.0219, -0.0116, -0.0099,  ...,  0.0187, -0.0286, -0.0048]],\n",
      "       requires_grad=True))\n",
      "('bias_ih_l3', Parameter containing:\n",
      "tensor([0., 0., 0.,  ..., 0., 0., 0.], requires_grad=True))\n",
      "('bias_hh_l3', Parameter containing:\n",
      "tensor([0., 0., 0.,  ..., 0., 0., 0.], requires_grad=True))\n"
     ]
    }
   ],
   "source": [
    "for i in model.encoder1.lstm1.named_parameters():\n",
    "    print(i)"
   ]
  },
  {
   "cell_type": "code",
   "execution_count": 3,
   "metadata": {},
   "outputs": [
    {
     "name": "stdout",
     "output_type": "stream",
     "text": [
      "('weight', Parameter containing:\n",
      "tensor([[ 4.8500e-01,  2.3566e-01,  3.8405e-01, -2.0698e+00,  1.7120e+00,\n",
      "         -2.1115e-02, -1.4670e+00,  1.7274e+00, -5.5192e-01, -7.5216e-01,\n",
      "         -1.2328e+00, -4.0519e-01, -1.6746e+00,  4.2106e-01,  3.2033e-01,\n",
      "          6.2815e-01,  4.4205e-02, -1.3771e+00,  2.1896e+00,  9.7848e-01,\n",
      "         -1.7810e-01,  2.0713e-01,  7.4360e-01,  2.0583e+00, -3.3752e-01,\n",
      "         -3.8259e-01,  3.1237e+00, -5.1498e-01,  1.4768e+00,  5.1699e-02,\n",
      "          8.1080e-01, -7.4553e-01,  2.3621e+00,  2.8715e-03, -1.1209e+00,\n",
      "          1.6088e+00, -3.0993e-01, -1.3650e+00,  1.7028e+00, -6.1942e-02,\n",
      "          6.0650e-01,  8.1578e-01, -1.9199e-01, -1.2931e+00, -7.3932e-01,\n",
      "         -9.8896e-01, -1.6122e-01,  2.9648e+00, -4.5833e-01, -4.9642e-01,\n",
      "          1.7495e+00,  1.6617e+00, -1.6178e+00,  1.5380e+00, -1.4399e+00,\n",
      "         -2.4257e+00, -3.5572e-01,  5.9664e-01,  1.9154e-01,  1.1530e+00,\n",
      "          1.0290e+00, -5.3242e-01, -1.0451e+00,  5.5875e-01, -2.8997e-01,\n",
      "         -1.0836e+00,  1.9143e+00,  1.5308e+00,  3.3150e-01,  2.0273e+00,\n",
      "         -5.9760e-01,  1.3354e+00,  3.2597e+00,  3.7169e+00,  6.3965e-01,\n",
      "         -6.3567e-01,  6.6409e-01,  1.1186e+00, -3.9852e+00,  2.1718e+00,\n",
      "          1.4686e+00, -9.3341e-01,  6.0753e-02,  1.4209e+00, -1.0477e+00,\n",
      "         -1.0608e+00, -9.0475e-01, -1.5811e-01,  2.7013e+00, -5.4363e-01,\n",
      "          4.7736e-01,  2.8049e+00, -1.0602e+00, -7.8991e-01, -4.7664e-03,\n",
      "          1.8253e+00, -2.0015e+00, -5.3431e-01,  1.0563e-01,  2.3593e-01,\n",
      "         -3.9083e-01, -4.8910e-01, -3.7987e-02,  1.4737e-01,  6.5487e-01,\n",
      "          7.0583e-01,  2.1455e+00,  5.4150e-01, -2.5770e-01, -2.5440e+00,\n",
      "          1.5952e+00,  1.0389e+00,  3.3149e-01, -1.6397e+00,  9.1147e-02,\n",
      "         -1.2313e+00, -9.7006e-01,  1.8165e+00,  8.9918e-01,  4.3575e-01,\n",
      "          1.3301e-01,  1.3693e+00,  1.1847e+00, -1.3036e+00,  2.0686e+00,\n",
      "         -2.4350e+00,  1.0482e-01, -4.4413e-01]], requires_grad=True))\n",
      "('bias', Parameter containing:\n",
      "tensor([0.], requires_grad=True))\n"
     ]
    }
   ],
   "source": [
    "for i in model.head.named_parameters():\n",
    "    print(i)"
   ]
  },
  {
   "cell_type": "code",
   "execution_count": 4,
   "metadata": {},
   "outputs": [
    {
     "name": "stdout",
     "output_type": "stream",
     "text": [
      "('weight', Parameter containing:\n",
      "tensor([[-2.1415e-02, -2.1829e-02,  2.6230e-02, -8.5193e-02, -7.6632e-03,\n",
      "         -6.8072e-02, -2.7203e-02,  6.1720e-02, -4.9478e-02,  4.5603e-02,\n",
      "         -6.2651e-02, -6.4799e-02,  4.7228e-02, -3.8508e-02,  7.0029e-02,\n",
      "          7.0463e-02, -6.5248e-03, -8.3257e-02,  4.4128e-02,  1.9718e-02,\n",
      "          3.1181e-02, -2.4495e-02,  1.3701e-02, -8.1331e-05,  2.4963e-02,\n",
      "          2.0878e-02, -8.8129e-02,  6.9786e-02,  5.0003e-02, -8.4549e-02,\n",
      "          4.5629e-03,  7.5199e-02, -3.4062e-02, -7.5300e-02, -7.5046e-02,\n",
      "          8.0921e-02,  6.3192e-03,  3.5548e-02,  1.1269e-02, -1.7107e-02,\n",
      "          5.6209e-02,  4.5600e-02, -2.5007e-02, -8.2276e-02, -3.2640e-03,\n",
      "          4.0312e-02, -4.7252e-02, -4.8563e-02,  5.8963e-02, -3.2745e-02,\n",
      "          8.8103e-02, -3.8999e-02, -6.4064e-02,  2.5091e-02, -4.9172e-02,\n",
      "         -4.1452e-02,  3.7005e-02,  4.6329e-02,  1.9293e-02, -5.1226e-02,\n",
      "          3.4172e-02,  6.1813e-02, -7.9402e-02,  7.7264e-02,  5.4713e-02,\n",
      "          2.8247e-02, -5.7814e-02, -4.3391e-02,  1.0249e-02,  5.8181e-02,\n",
      "          5.8250e-02, -5.3220e-02, -6.3621e-02,  7.9612e-02, -8.5145e-02,\n",
      "         -6.2444e-02,  8.5376e-02,  2.2037e-03,  3.9919e-02, -7.0519e-02,\n",
      "          5.2214e-03,  6.0156e-02,  4.6133e-02,  2.1154e-02,  5.0939e-02,\n",
      "         -6.3167e-03,  4.2394e-02,  2.4772e-02,  3.8849e-02,  4.4137e-02,\n",
      "         -2.6935e-02, -2.2441e-02, -8.2334e-03,  7.4668e-02,  6.9695e-02,\n",
      "          5.8581e-02,  3.3914e-02,  6.5091e-02,  2.7709e-02,  7.2794e-02,\n",
      "         -2.8930e-02,  3.2521e-02,  5.7921e-02, -4.9918e-02,  7.5557e-02,\n",
      "         -3.3372e-02,  8.1010e-03,  8.6648e-02, -7.3888e-02,  3.2085e-02,\n",
      "         -7.0728e-02, -5.0667e-02,  5.5897e-02,  5.4596e-02,  7.3184e-02,\n",
      "         -1.6357e-02, -6.9159e-03,  3.7671e-03,  1.4130e-02, -5.6574e-02,\n",
      "          2.8910e-02,  2.7719e-02, -5.5398e-02,  7.6973e-02,  6.9886e-02,\n",
      "          5.5017e-04, -1.9364e-02,  3.8408e-02]], requires_grad=True))\n",
      "('bias', Parameter containing:\n",
      "tensor([-0.0394], requires_grad=True))\n"
     ]
    }
   ],
   "source": [
    "for i in model.head.named_parameters():\n",
    "    print(i)"
   ]
  },
  {
   "cell_type": "code",
   "execution_count": null,
   "metadata": {},
   "outputs": [],
   "source": []
  },
  {
   "cell_type": "code",
   "execution_count": 8,
   "metadata": {},
   "outputs": [
    {
     "name": "stderr",
     "output_type": "stream",
     "text": [
      "/Users/lincolnfong/opt/anaconda3/envs/COMP7509/lib/python3.10/site-packages/torch/nn/modules/conv.py:306: UserWarning: Using padding='same' with even kernel lengths and odd dilation may require a zero-padded copy of the input be created (Triggered internally at /Users/runner/work/pytorch/pytorch/pytorch/aten/src/ATen/native/Convolution.cpp:1009.)\n",
      "  return F.conv1d(input, weight, bias, self.stride,\n"
     ]
    },
    {
     "data": {
      "text/plain": [
       "tensor([[-0.0024],\n",
       "        [-0.0024],\n",
       "        [-0.0024]], grad_fn=<AddmmBackward0>)"
      ]
     },
     "execution_count": 8,
     "metadata": {},
     "output_type": "execute_result"
    }
   ],
   "source": [
    "model(torch.rand(3, 2, 30))"
   ]
  },
  {
   "cell_type": "code",
   "execution_count": 10,
   "metadata": {},
   "outputs": [
    {
     "data": {
      "text/plain": [
       "torch.Size([3, 7])"
      ]
     },
     "execution_count": 10,
     "metadata": {},
     "output_type": "execute_result"
    }
   ],
   "source": [
    "torch.rand(3, 2, 7)[:,0,:].size()"
   ]
  },
  {
   "cell_type": "code",
   "execution_count": 14,
   "metadata": {},
   "outputs": [
    {
     "data": {
      "text/plain": [
       "tensor(0.6751)"
      ]
     },
     "execution_count": 14,
     "metadata": {},
     "output_type": "execute_result"
    }
   ],
   "source": [
    "torch.nn.BCEWithLogitsLoss()(torch.tensor([[-0.0364],\n",
    "        [-0.0364],\n",
    "        [-0.0364],\n",
    "        [-0.0364],\n",
    "        [-0.0364],\n",
    "        [-0.0364],\n",
    "        [-0.0364],\n",
    "        [-0.0364]]),torch.tensor([[0.],\n",
    "        [0.],\n",
    "        [0.],\n",
    "        [0.],\n",
    "        [0.],\n",
    "        [0.],\n",
    "        [0.],\n",
    "        [0.]]))"
   ]
  },
  {
   "cell_type": "code",
   "execution_count": 27,
   "metadata": {},
   "outputs": [
    {
     "data": {
      "text/plain": [
       "tensor(4.5418e-05)"
      ]
     },
     "execution_count": 27,
     "metadata": {},
     "output_type": "execute_result"
    }
   ],
   "source": [
    "torch.nn.BCEWithLogitsLoss()(torch.tensor([-10.]*8), torch.tensor([0.]*8))"
   ]
  },
  {
   "cell_type": "code",
   "execution_count": 12,
   "metadata": {},
   "outputs": [
    {
     "data": {
      "text/plain": [
       "tensor([[0.],\n",
       "        [0.],\n",
       "        [1.],\n",
       "        [0.],\n",
       "        [0.],\n",
       "        [0.],\n",
       "        [0.],\n",
       "        [0.]])"
      ]
     },
     "execution_count": 12,
     "metadata": {},
     "output_type": "execute_result"
    }
   ],
   "source": [
    "torch.tensor([[0.],\n",
    "        [0.],\n",
    "        [1.],\n",
    "        [0.],\n",
    "        [0.],\n",
    "        [0.],\n",
    "        [0.],\n",
    "        [0.]])"
   ]
  },
  {
   "cell_type": "code",
   "execution_count": 10,
   "metadata": {},
   "outputs": [],
   "source": [
    "import torch\n",
    "from torchmetrics.classification import Recall, Precision"
   ]
  },
  {
   "cell_type": "code",
   "execution_count": 14,
   "metadata": {},
   "outputs": [],
   "source": [
    "recall = Recall(task=\"multiclass\", average='none', num_classes=2)\n",
    "precision = Precision(task=\"multiclass\", average='none', num_classes=2)"
   ]
  },
  {
   "cell_type": "code",
   "execution_count": 15,
   "metadata": {},
   "outputs": [],
   "source": [
    "preds  = torch.tensor([1, 0, 1, 1])\n",
    "target = torch.tensor([1, 1, 0, 0])"
   ]
  },
  {
   "cell_type": "code",
   "execution_count": 16,
   "metadata": {},
   "outputs": [
    {
     "data": {
      "text/plain": [
       "tensor([0.0000, 0.5000])"
      ]
     },
     "execution_count": 16,
     "metadata": {},
     "output_type": "execute_result"
    }
   ],
   "source": [
    "recall(preds, target)"
   ]
  },
  {
   "cell_type": "code",
   "execution_count": 17,
   "metadata": {},
   "outputs": [
    {
     "data": {
      "text/plain": [
       "tensor([0.0000, 0.3333])"
      ]
     },
     "execution_count": 17,
     "metadata": {},
     "output_type": "execute_result"
    }
   ],
   "source": [
    "precision(preds, target)"
   ]
  },
  {
   "cell_type": "code",
   "execution_count": 18,
   "metadata": {},
   "outputs": [
    {
     "data": {
      "text/plain": [
       "tensor(0.2500)"
      ]
     },
     "execution_count": 18,
     "metadata": {},
     "output_type": "execute_result"
    }
   ],
   "source": [
    "Recall(task=\"multiclass\", average='macro', num_classes=2)(preds,target)"
   ]
  },
  {
   "cell_type": "code",
   "execution_count": 19,
   "metadata": {},
   "outputs": [],
   "source": [
    "metrics = [\"bull_recall\",\n",
    "\"bear_recall\",\n",
    "\"bull_precision\",\n",
    "\"bear_precision\",\n",
    "\"bull_f1_score\",\n",
    "\"bear_f1_score\"]\n",
    "\n",
    "running_metrics = {k: 0. for k in metrics}"
   ]
  },
  {
   "cell_type": "code",
   "execution_count": 20,
   "metadata": {},
   "outputs": [
    {
     "data": {
      "text/plain": [
       "{'bull_recall': 0.0,\n",
       " 'bear_recall': 0.0,\n",
       " 'bull_precision': 0.0,\n",
       " 'bear_precision': 0.0,\n",
       " 'bull_f1_score': 0.0,\n",
       " 'bear_f1_score': 0.0}"
      ]
     },
     "execution_count": 20,
     "metadata": {},
     "output_type": "execute_result"
    }
   ],
   "source": [
    "running_metrics"
   ]
  },
  {
   "cell_type": "code",
   "execution_count": 21,
   "metadata": {},
   "outputs": [],
   "source": [
    "import numpy as np\n",
    "data = np.load(\"datasets.npz\")"
   ]
  },
  {
   "cell_type": "code",
   "execution_count": 24,
   "metadata": {},
   "outputs": [
    {
     "data": {
      "text/plain": [
       "(2450, 15, 5)"
      ]
     },
     "execution_count": 24,
     "metadata": {},
     "output_type": "execute_result"
    }
   ],
   "source": [
    "data[\"mid_x\"].shape"
   ]
  },
  {
   "cell_type": "code",
   "execution_count": 26,
   "metadata": {},
   "outputs": [
    {
     "data": {
      "text/plain": [
       "(15, 5)"
      ]
     },
     "execution_count": 26,
     "metadata": {},
     "output_type": "execute_result"
    }
   ],
   "source": [
    "np.empty(data[\"mid_x\"].shape[1:]).shape"
   ]
  },
  {
   "cell_type": "code",
   "execution_count": 40,
   "metadata": {},
   "outputs": [],
   "source": [
    "def process(data):\n",
    "    m = np.empty((data.shape[0], 1, 5, 7))\n",
    "    for i, x in enumerate(data):\n",
    "        n = np.empty((5, 7))\n",
    "        for j, v in enumerate(x.T):\n",
    "            n[j] = np.interp(np.array(list(range(7)))*len(v)/7, range(len(v)), v)\n",
    "        n = np.expand_dims(n, 0)\n",
    "        m[i] = n\n",
    "    return m"
   ]
  },
  {
   "cell_type": "code",
   "execution_count": 72,
   "metadata": {},
   "outputs": [
    {
     "data": {
      "text/plain": [
       "array([0, 1, 0, 1, 1, 0, 0, 0, 0, 1])"
      ]
     },
     "execution_count": 72,
     "metadata": {},
     "output_type": "execute_result"
    }
   ],
   "source": [
    "data[\"short_y\"][30 - 7:2000+7][:10]"
   ]
  },
  {
   "cell_type": "code",
   "execution_count": 74,
   "metadata": {},
   "outputs": [
    {
     "data": {
      "text/plain": [
       "array([0, 1, 0, 1, 1, 0, 0, 0, 0, 1])"
      ]
     },
     "execution_count": 74,
     "metadata": {},
     "output_type": "execute_result"
    }
   ],
   "source": [
    "data[\"mid_y\"][30 - 15:2000+15][:10]"
   ]
  },
  {
   "cell_type": "code",
   "execution_count": 76,
   "metadata": {},
   "outputs": [
    {
     "data": {
      "text/plain": [
       "array([0, 1, 0, 1, 1, 0, 0, 0, 0, 1])"
      ]
     },
     "execution_count": 76,
     "metadata": {},
     "output_type": "execute_result"
    }
   ],
   "source": [
    "data[\"long_y\"][:2000][:10]"
   ]
  },
  {
   "cell_type": "code",
   "execution_count": 60,
   "metadata": {},
   "outputs": [
    {
     "data": {
      "text/plain": [
       "array([0, 1, 0, 1, 1, 0, 0, 0, 0, 1, 0, 1, 0, 1, 0, 1, 0, 1, 1, 0])"
      ]
     },
     "execution_count": 60,
     "metadata": {},
     "output_type": "execute_result"
    }
   ],
   "source": [
    "data[\"long_y\"][:][:20]"
   ]
  },
  {
   "cell_type": "code",
   "execution_count": 61,
   "metadata": {},
   "outputs": [
    {
     "data": {
      "text/plain": [
       "array([0, 1, 0, 1, 1, 0, 0, 0, 0, 1, 0, 1, 0, 1, 0, 1, 0, 1, 1, 0])"
      ]
     },
     "execution_count": 61,
     "metadata": {},
     "output_type": "execute_result"
    }
   ],
   "source": [
    "data[\"mid_y\"][30-15:][:20]"
   ]
  },
  {
   "cell_type": "code",
   "execution_count": 87,
   "metadata": {},
   "outputs": [
    {
     "data": {
      "text/plain": [
       "torch.Size([1, 2, 1, 4])"
      ]
     },
     "execution_count": 87,
     "metadata": {},
     "output_type": "execute_result"
    }
   ],
   "source": [
    "torch.rand((1,2,3,4))[:,:,[0],:].size()"
   ]
  },
  {
   "cell_type": "code",
   "execution_count": 11,
   "metadata": {},
   "outputs": [],
   "source": [
    "import numpy as np\n",
    "data = np.load(\"test_data.npz\")"
   ]
  },
  {
   "cell_type": "code",
   "execution_count": 12,
   "metadata": {},
   "outputs": [
    {
     "data": {
      "text/plain": [
       "array([0, 0, 0, 0, 0, 0, 0, 0, 0, 0, 0, 0, 0, 0, 0, 1, 1, 1, 1, 1, 1, 1,\n",
       "       1, 1, 1, 1, 1, 1, 1, 1])"
      ]
     },
     "execution_count": 12,
     "metadata": {},
     "output_type": "execute_result"
    }
   ],
   "source": [
    "data[\"short_y\"][:30]"
   ]
  },
  {
   "cell_type": "code",
   "execution_count": 4,
   "metadata": {},
   "outputs": [
    {
     "data": {
      "text/plain": [
       "array([0, 1, 1, 1, 1, 1, 0, 1, 1, 1])"
      ]
     },
     "execution_count": 4,
     "metadata": {},
     "output_type": "execute_result"
    }
   ],
   "source": [
    "data[\"mid_y\"][-10:]"
   ]
  },
  {
   "cell_type": "code",
   "execution_count": 8,
   "metadata": {},
   "outputs": [],
   "source": [
    "from sklearn.preprocessing import StandardScaler"
   ]
  },
  {
   "cell_type": "code",
   "execution_count": 13,
   "metadata": {},
   "outputs": [
    {
     "data": {
      "text/plain": [
       "[<matplotlib.lines.Line2D at 0x134519870>]"
      ]
     },
     "execution_count": 13,
     "metadata": {},
     "output_type": "execute_result"
    },
    {
     "data": {
      "image/png": "[encoded data removed]",
      "text/plain": [
       "<Figure size 640x480 with 1 Axes>"
      ]
     },
     "metadata": {},
     "output_type": "display_data"
    }
   ],
   "source": [
    "import matplotlib.pyplot as plt\n",
    "plt.plot(data[\"long_x\"][0][:,0])"
   ]
  },
  {
   "cell_type": "code",
   "execution_count": 21,
   "metadata": {},
   "outputs": [
    {
     "data": {
      "text/plain": [
       "(30, 5)"
      ]
     },
     "execution_count": 21,
     "metadata": {},
     "output_type": "execute_result"
    }
   ],
   "source": [
    "data[\"long_x\"][0].shape"
   ]
  },
  {
   "cell_type": "code",
   "execution_count": 23,
   "metadata": {},
   "outputs": [
    {
     "data": {
      "text/plain": [
       "(16325,)"
      ]
     },
     "execution_count": 23,
     "metadata": {},
     "output_type": "execute_result"
    }
   ],
   "source": [
    "data[\"long_y\"]"
   ]
  },
  {
   "cell_type": "code",
   "execution_count": 7,
   "metadata": {},
   "outputs": [
    {
     "data": {
      "text/plain": [
       "(array([0, 1]), array([7947, 7481]))"
      ]
     },
     "execution_count": 7,
     "metadata": {},
     "output_type": "execute_result"
    }
   ],
   "source": [
    "np.unique(data[\"long_y\"], return_counts=True)"
   ]
  },
  {
   "cell_type": "code",
   "execution_count": 4,
   "metadata": {},
   "outputs": [
    {
     "data": {
      "text/plain": [
       "(100, 5, 120)"
      ]
     },
     "execution_count": 4,
     "metadata": {},
     "output_type": "execute_result"
    }
   ],
   "source": [
    "import numpy as np\n",
    "np.ones((100,120,5)).transpose((0,2,1)).shape"
   ]
  },
  {
   "cell_type": "code",
   "execution_count": null,
   "metadata": {},
   "outputs": [],
   "source": []
  }
 ],
 "metadata": {
  "kernelspec": {
   "display_name": "COMP7509",
   "language": "python",
   "name": "python3"
  },
  "language_info": {
   "codemirror_mode": {
    "name": "ipython",
    "version": 3
   },
   "file_extension": ".py",
   "mimetype": "text/x-python",
   "name": "python",
   "nbconvert_exporter": "python",
   "pygments_lexer": "ipython3",
   "version": "3.10.13"
  },
  "orig_nbformat": 4
 },
 "nbformat": 4,
 "nbformat_minor": 2
}
